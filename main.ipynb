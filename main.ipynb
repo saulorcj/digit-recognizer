{
 "cells": [
  {
   "cell_type": "markdown",
   "metadata": {},
   "source": [
    "## 1. Imports"
   ]
  },
  {
   "cell_type": "code",
   "execution_count": 126,
   "metadata": {},
   "outputs": [],
   "source": [
    "import pandas as pd\n",
    "import numpy as np\n",
    "\n",
    "import matplotlib.pyplot as plt\n",
    "import seaborn as sns\n",
    "\n",
    "from sklearn.tree import (\n",
    "    DecisionTreeClassifier\n",
    ")\n",
    "\n",
    "from sklearn.neighbors import (\n",
    "    KNeighborsClassifier\n",
    ")\n",
    "\n",
    "from sklearn.ensemble import (\n",
    "    RandomForestClassifier,\n",
    "    AdaBoostClassifier,\n",
    "    HistGradientBoostingClassifier\n",
    ")\n",
    "\n",
    "from xgboost import XGBClassifier\n",
    "\n",
    "from sklearn.model_selection import (\n",
    "    cross_val_score,\n",
    "    train_test_split,\n",
    "    GridSearchCV\n",
    ")\n",
    "from sklearn.metrics import (\n",
    "    classification_report, \n",
    "    confusion_matrix, \n",
    "    roc_auc_score,\n",
    "    roc_curve\n",
    ")\n",
    "from sklearn.preprocessing import OneHotEncoder"
   ]
  },
  {
   "cell_type": "markdown",
   "metadata": {},
   "source": [
    "## 2. Dados"
   ]
  },
  {
   "cell_type": "code",
   "execution_count": 2,
   "metadata": {},
   "outputs": [],
   "source": [
    "df_test = pd.read_csv(\"./data/test.csv\")\n",
    "df = pd.read_csv(\"./data/train.csv\")"
   ]
  },
  {
   "cell_type": "code",
   "execution_count": 3,
   "metadata": {},
   "outputs": [
    {
     "data": {
      "text/html": [
       "<div>\n",
       "<style scoped>\n",
       "    .dataframe tbody tr th:only-of-type {\n",
       "        vertical-align: middle;\n",
       "    }\n",
       "\n",
       "    .dataframe tbody tr th {\n",
       "        vertical-align: top;\n",
       "    }\n",
       "\n",
       "    .dataframe thead th {\n",
       "        text-align: right;\n",
       "    }\n",
       "</style>\n",
       "<table border=\"1\" class=\"dataframe\">\n",
       "  <thead>\n",
       "    <tr style=\"text-align: right;\">\n",
       "      <th></th>\n",
       "      <th>label</th>\n",
       "      <th>pixel0</th>\n",
       "      <th>pixel1</th>\n",
       "      <th>pixel2</th>\n",
       "      <th>pixel3</th>\n",
       "      <th>pixel4</th>\n",
       "      <th>pixel5</th>\n",
       "      <th>pixel6</th>\n",
       "      <th>pixel7</th>\n",
       "      <th>pixel8</th>\n",
       "      <th>...</th>\n",
       "      <th>pixel774</th>\n",
       "      <th>pixel775</th>\n",
       "      <th>pixel776</th>\n",
       "      <th>pixel777</th>\n",
       "      <th>pixel778</th>\n",
       "      <th>pixel779</th>\n",
       "      <th>pixel780</th>\n",
       "      <th>pixel781</th>\n",
       "      <th>pixel782</th>\n",
       "      <th>pixel783</th>\n",
       "    </tr>\n",
       "  </thead>\n",
       "  <tbody>\n",
       "    <tr>\n",
       "      <th>0</th>\n",
       "      <td>1</td>\n",
       "      <td>0</td>\n",
       "      <td>0</td>\n",
       "      <td>0</td>\n",
       "      <td>0</td>\n",
       "      <td>0</td>\n",
       "      <td>0</td>\n",
       "      <td>0</td>\n",
       "      <td>0</td>\n",
       "      <td>0</td>\n",
       "      <td>...</td>\n",
       "      <td>0</td>\n",
       "      <td>0</td>\n",
       "      <td>0</td>\n",
       "      <td>0</td>\n",
       "      <td>0</td>\n",
       "      <td>0</td>\n",
       "      <td>0</td>\n",
       "      <td>0</td>\n",
       "      <td>0</td>\n",
       "      <td>0</td>\n",
       "    </tr>\n",
       "    <tr>\n",
       "      <th>1</th>\n",
       "      <td>0</td>\n",
       "      <td>0</td>\n",
       "      <td>0</td>\n",
       "      <td>0</td>\n",
       "      <td>0</td>\n",
       "      <td>0</td>\n",
       "      <td>0</td>\n",
       "      <td>0</td>\n",
       "      <td>0</td>\n",
       "      <td>0</td>\n",
       "      <td>...</td>\n",
       "      <td>0</td>\n",
       "      <td>0</td>\n",
       "      <td>0</td>\n",
       "      <td>0</td>\n",
       "      <td>0</td>\n",
       "      <td>0</td>\n",
       "      <td>0</td>\n",
       "      <td>0</td>\n",
       "      <td>0</td>\n",
       "      <td>0</td>\n",
       "    </tr>\n",
       "    <tr>\n",
       "      <th>2</th>\n",
       "      <td>1</td>\n",
       "      <td>0</td>\n",
       "      <td>0</td>\n",
       "      <td>0</td>\n",
       "      <td>0</td>\n",
       "      <td>0</td>\n",
       "      <td>0</td>\n",
       "      <td>0</td>\n",
       "      <td>0</td>\n",
       "      <td>0</td>\n",
       "      <td>...</td>\n",
       "      <td>0</td>\n",
       "      <td>0</td>\n",
       "      <td>0</td>\n",
       "      <td>0</td>\n",
       "      <td>0</td>\n",
       "      <td>0</td>\n",
       "      <td>0</td>\n",
       "      <td>0</td>\n",
       "      <td>0</td>\n",
       "      <td>0</td>\n",
       "    </tr>\n",
       "    <tr>\n",
       "      <th>3</th>\n",
       "      <td>4</td>\n",
       "      <td>0</td>\n",
       "      <td>0</td>\n",
       "      <td>0</td>\n",
       "      <td>0</td>\n",
       "      <td>0</td>\n",
       "      <td>0</td>\n",
       "      <td>0</td>\n",
       "      <td>0</td>\n",
       "      <td>0</td>\n",
       "      <td>...</td>\n",
       "      <td>0</td>\n",
       "      <td>0</td>\n",
       "      <td>0</td>\n",
       "      <td>0</td>\n",
       "      <td>0</td>\n",
       "      <td>0</td>\n",
       "      <td>0</td>\n",
       "      <td>0</td>\n",
       "      <td>0</td>\n",
       "      <td>0</td>\n",
       "    </tr>\n",
       "    <tr>\n",
       "      <th>4</th>\n",
       "      <td>0</td>\n",
       "      <td>0</td>\n",
       "      <td>0</td>\n",
       "      <td>0</td>\n",
       "      <td>0</td>\n",
       "      <td>0</td>\n",
       "      <td>0</td>\n",
       "      <td>0</td>\n",
       "      <td>0</td>\n",
       "      <td>0</td>\n",
       "      <td>...</td>\n",
       "      <td>0</td>\n",
       "      <td>0</td>\n",
       "      <td>0</td>\n",
       "      <td>0</td>\n",
       "      <td>0</td>\n",
       "      <td>0</td>\n",
       "      <td>0</td>\n",
       "      <td>0</td>\n",
       "      <td>0</td>\n",
       "      <td>0</td>\n",
       "    </tr>\n",
       "  </tbody>\n",
       "</table>\n",
       "<p>5 rows × 785 columns</p>\n",
       "</div>"
      ],
      "text/plain": [
       "   label  pixel0  pixel1  pixel2  pixel3  pixel4  pixel5  pixel6  pixel7  \\\n",
       "0      1       0       0       0       0       0       0       0       0   \n",
       "1      0       0       0       0       0       0       0       0       0   \n",
       "2      1       0       0       0       0       0       0       0       0   \n",
       "3      4       0       0       0       0       0       0       0       0   \n",
       "4      0       0       0       0       0       0       0       0       0   \n",
       "\n",
       "   pixel8  ...  pixel774  pixel775  pixel776  pixel777  pixel778  pixel779  \\\n",
       "0       0  ...         0         0         0         0         0         0   \n",
       "1       0  ...         0         0         0         0         0         0   \n",
       "2       0  ...         0         0         0         0         0         0   \n",
       "3       0  ...         0         0         0         0         0         0   \n",
       "4       0  ...         0         0         0         0         0         0   \n",
       "\n",
       "   pixel780  pixel781  pixel782  pixel783  \n",
       "0         0         0         0         0  \n",
       "1         0         0         0         0  \n",
       "2         0         0         0         0  \n",
       "3         0         0         0         0  \n",
       "4         0         0         0         0  \n",
       "\n",
       "[5 rows x 785 columns]"
      ]
     },
     "execution_count": 3,
     "metadata": {},
     "output_type": "execute_result"
    }
   ],
   "source": [
    "df.head()"
   ]
  },
  {
   "cell_type": "code",
   "execution_count": 4,
   "metadata": {},
   "outputs": [],
   "source": [
    "def plot_number(df: pd.DataFrame, index: int) -> None:\n",
    "    plt.imshow(np.array(df.iloc[index]).reshape((28, 28)))"
   ]
  },
  {
   "cell_type": "markdown",
   "metadata": {},
   "source": [
    "## 3. AED"
   ]
  },
  {
   "cell_type": "markdown",
   "metadata": {},
   "source": [
    "### 3.1. Eliminando pixels não usados"
   ]
  },
  {
   "cell_type": "code",
   "execution_count": 5,
   "metadata": {},
   "outputs": [],
   "source": [
    "take_number = lambda x: int(x.split(\"pixel\")[1])"
   ]
  },
  {
   "cell_type": "code",
   "execution_count": 6,
   "metadata": {},
   "outputs": [
    {
     "data": {
      "image/png": "[encoded data removed]",
      "text/plain": [
       "<Figure size 1200x600 with 1 Axes>"
      ]
     },
     "metadata": {},
     "output_type": "display_data"
    }
   ],
   "source": [
    "sum_by_pixel = pd.DataFrame(df.sum().drop(\"label\")).reset_index()\n",
    "\n",
    "sum_by_pixel.columns = [\"pixel\", \"soma\"]\n",
    "\n",
    "sum_by_pixel[\"pixel\"] = sum_by_pixel[\"pixel\"].apply(take_number)\n",
    "\n",
    "plt.figure(figsize=(12, 6))\n",
    "\n",
    "sns.barplot(sum_by_pixel, x=\"pixel\", y=\"soma\")\n",
    "\n",
    "plt.xticks([0, 400, 800])\n",
    "\n",
    "plt.show()"
   ]
  },
  {
   "cell_type": "code",
   "execution_count": 7,
   "metadata": {},
   "outputs": [],
   "source": [
    "columns_mt_zero = list((\"pixel\" + sum_by_pixel[sum_by_pixel[\"soma\"] > 0][\"pixel\"].astype(str)).values)"
   ]
  },
  {
   "cell_type": "markdown",
   "metadata": {},
   "source": [
    "### 3.2. Correlação"
   ]
  },
  {
   "cell_type": "code",
   "execution_count": 8,
   "metadata": {},
   "outputs": [],
   "source": [
    "df_low_corr = df.copy()"
   ]
  },
  {
   "cell_type": "code",
   "execution_count": 9,
   "metadata": {},
   "outputs": [],
   "source": [
    "ohe = OneHotEncoder()"
   ]
  },
  {
   "cell_type": "code",
   "execution_count": 10,
   "metadata": {},
   "outputs": [],
   "source": [
    "labels_values = np.array(df_low_corr[\"label\"]).reshape((-1, 1))"
   ]
  },
  {
   "cell_type": "code",
   "execution_count": 11,
   "metadata": {},
   "outputs": [],
   "source": [
    "labels_encodes = ohe.fit_transform(labels_values).toarray()\n",
    "\n",
    "labels_categories = ohe.categories_[0]"
   ]
  },
  {
   "cell_type": "code",
   "execution_count": 12,
   "metadata": {},
   "outputs": [],
   "source": [
    "labels_categories = (\"label\" + pd.Series(labels_categories).astype(str)).values"
   ]
  },
  {
   "cell_type": "code",
   "execution_count": 13,
   "metadata": {},
   "outputs": [],
   "source": [
    "df_low_corr.loc[:, labels_categories] = labels_encodes"
   ]
  },
  {
   "cell_type": "code",
   "execution_count": 14,
   "metadata": {},
   "outputs": [
    {
     "data": {
      "text/html": [
       "<div>\n",
       "<style scoped>\n",
       "    .dataframe tbody tr th:only-of-type {\n",
       "        vertical-align: middle;\n",
       "    }\n",
       "\n",
       "    .dataframe tbody tr th {\n",
       "        vertical-align: top;\n",
       "    }\n",
       "\n",
       "    .dataframe thead th {\n",
       "        text-align: right;\n",
       "    }\n",
       "</style>\n",
       "<table border=\"1\" class=\"dataframe\">\n",
       "  <thead>\n",
       "    <tr style=\"text-align: right;\">\n",
       "      <th></th>\n",
       "      <th>label0</th>\n",
       "      <th>label1</th>\n",
       "      <th>label2</th>\n",
       "      <th>label3</th>\n",
       "      <th>label4</th>\n",
       "      <th>label5</th>\n",
       "      <th>label6</th>\n",
       "      <th>label7</th>\n",
       "      <th>label8</th>\n",
       "      <th>label9</th>\n",
       "    </tr>\n",
       "  </thead>\n",
       "  <tbody>\n",
       "    <tr>\n",
       "      <th>0</th>\n",
       "      <td>0.0</td>\n",
       "      <td>1.0</td>\n",
       "      <td>0.0</td>\n",
       "      <td>0.0</td>\n",
       "      <td>0.0</td>\n",
       "      <td>0.0</td>\n",
       "      <td>0.0</td>\n",
       "      <td>0.0</td>\n",
       "      <td>0.0</td>\n",
       "      <td>0.0</td>\n",
       "    </tr>\n",
       "    <tr>\n",
       "      <th>1</th>\n",
       "      <td>1.0</td>\n",
       "      <td>0.0</td>\n",
       "      <td>0.0</td>\n",
       "      <td>0.0</td>\n",
       "      <td>0.0</td>\n",
       "      <td>0.0</td>\n",
       "      <td>0.0</td>\n",
       "      <td>0.0</td>\n",
       "      <td>0.0</td>\n",
       "      <td>0.0</td>\n",
       "    </tr>\n",
       "    <tr>\n",
       "      <th>2</th>\n",
       "      <td>0.0</td>\n",
       "      <td>1.0</td>\n",
       "      <td>0.0</td>\n",
       "      <td>0.0</td>\n",
       "      <td>0.0</td>\n",
       "      <td>0.0</td>\n",
       "      <td>0.0</td>\n",
       "      <td>0.0</td>\n",
       "      <td>0.0</td>\n",
       "      <td>0.0</td>\n",
       "    </tr>\n",
       "    <tr>\n",
       "      <th>3</th>\n",
       "      <td>0.0</td>\n",
       "      <td>0.0</td>\n",
       "      <td>0.0</td>\n",
       "      <td>0.0</td>\n",
       "      <td>1.0</td>\n",
       "      <td>0.0</td>\n",
       "      <td>0.0</td>\n",
       "      <td>0.0</td>\n",
       "      <td>0.0</td>\n",
       "      <td>0.0</td>\n",
       "    </tr>\n",
       "    <tr>\n",
       "      <th>4</th>\n",
       "      <td>1.0</td>\n",
       "      <td>0.0</td>\n",
       "      <td>0.0</td>\n",
       "      <td>0.0</td>\n",
       "      <td>0.0</td>\n",
       "      <td>0.0</td>\n",
       "      <td>0.0</td>\n",
       "      <td>0.0</td>\n",
       "      <td>0.0</td>\n",
       "      <td>0.0</td>\n",
       "    </tr>\n",
       "    <tr>\n",
       "      <th>...</th>\n",
       "      <td>...</td>\n",
       "      <td>...</td>\n",
       "      <td>...</td>\n",
       "      <td>...</td>\n",
       "      <td>...</td>\n",
       "      <td>...</td>\n",
       "      <td>...</td>\n",
       "      <td>...</td>\n",
       "      <td>...</td>\n",
       "      <td>...</td>\n",
       "    </tr>\n",
       "    <tr>\n",
       "      <th>41995</th>\n",
       "      <td>1.0</td>\n",
       "      <td>0.0</td>\n",
       "      <td>0.0</td>\n",
       "      <td>0.0</td>\n",
       "      <td>0.0</td>\n",
       "      <td>0.0</td>\n",
       "      <td>0.0</td>\n",
       "      <td>0.0</td>\n",
       "      <td>0.0</td>\n",
       "      <td>0.0</td>\n",
       "    </tr>\n",
       "    <tr>\n",
       "      <th>41996</th>\n",
       "      <td>0.0</td>\n",
       "      <td>1.0</td>\n",
       "      <td>0.0</td>\n",
       "      <td>0.0</td>\n",
       "      <td>0.0</td>\n",
       "      <td>0.0</td>\n",
       "      <td>0.0</td>\n",
       "      <td>0.0</td>\n",
       "      <td>0.0</td>\n",
       "      <td>0.0</td>\n",
       "    </tr>\n",
       "    <tr>\n",
       "      <th>41997</th>\n",
       "      <td>0.0</td>\n",
       "      <td>0.0</td>\n",
       "      <td>0.0</td>\n",
       "      <td>0.0</td>\n",
       "      <td>0.0</td>\n",
       "      <td>0.0</td>\n",
       "      <td>0.0</td>\n",
       "      <td>1.0</td>\n",
       "      <td>0.0</td>\n",
       "      <td>0.0</td>\n",
       "    </tr>\n",
       "    <tr>\n",
       "      <th>41998</th>\n",
       "      <td>0.0</td>\n",
       "      <td>0.0</td>\n",
       "      <td>0.0</td>\n",
       "      <td>0.0</td>\n",
       "      <td>0.0</td>\n",
       "      <td>0.0</td>\n",
       "      <td>1.0</td>\n",
       "      <td>0.0</td>\n",
       "      <td>0.0</td>\n",
       "      <td>0.0</td>\n",
       "    </tr>\n",
       "    <tr>\n",
       "      <th>41999</th>\n",
       "      <td>0.0</td>\n",
       "      <td>0.0</td>\n",
       "      <td>0.0</td>\n",
       "      <td>0.0</td>\n",
       "      <td>0.0</td>\n",
       "      <td>0.0</td>\n",
       "      <td>0.0</td>\n",
       "      <td>0.0</td>\n",
       "      <td>0.0</td>\n",
       "      <td>1.0</td>\n",
       "    </tr>\n",
       "  </tbody>\n",
       "</table>\n",
       "<p>42000 rows × 10 columns</p>\n",
       "</div>"
      ],
      "text/plain": [
       "       label0  label1  label2  label3  label4  label5  label6  label7  label8  \\\n",
       "0         0.0     1.0     0.0     0.0     0.0     0.0     0.0     0.0     0.0   \n",
       "1         1.0     0.0     0.0     0.0     0.0     0.0     0.0     0.0     0.0   \n",
       "2         0.0     1.0     0.0     0.0     0.0     0.0     0.0     0.0     0.0   \n",
       "3         0.0     0.0     0.0     0.0     1.0     0.0     0.0     0.0     0.0   \n",
       "4         1.0     0.0     0.0     0.0     0.0     0.0     0.0     0.0     0.0   \n",
       "...       ...     ...     ...     ...     ...     ...     ...     ...     ...   \n",
       "41995     1.0     0.0     0.0     0.0     0.0     0.0     0.0     0.0     0.0   \n",
       "41996     0.0     1.0     0.0     0.0     0.0     0.0     0.0     0.0     0.0   \n",
       "41997     0.0     0.0     0.0     0.0     0.0     0.0     0.0     1.0     0.0   \n",
       "41998     0.0     0.0     0.0     0.0     0.0     0.0     1.0     0.0     0.0   \n",
       "41999     0.0     0.0     0.0     0.0     0.0     0.0     0.0     0.0     0.0   \n",
       "\n",
       "       label9  \n",
       "0         0.0  \n",
       "1         0.0  \n",
       "2         0.0  \n",
       "3         0.0  \n",
       "4         0.0  \n",
       "...       ...  \n",
       "41995     0.0  \n",
       "41996     0.0  \n",
       "41997     0.0  \n",
       "41998     0.0  \n",
       "41999     1.0  \n",
       "\n",
       "[42000 rows x 10 columns]"
      ]
     },
     "execution_count": 14,
     "metadata": {},
     "output_type": "execute_result"
    }
   ],
   "source": [
    "df_low_corr[labels_categories]"
   ]
  },
  {
   "cell_type": "code",
   "execution_count": 15,
   "metadata": {},
   "outputs": [],
   "source": [
    "df_corr = df_low_corr.corr()\n",
    "\n",
    "df_corr = df_corr[labels_categories].drop([\"label\"] + list(labels_categories), axis=0)\n",
    "\n",
    "df_corr[\"pixel\"] = pd.Series(df_corr.index).apply(take_number).values\n",
    "\n",
    "df_corr = df_corr.reset_index(drop=True)"
   ]
  },
  {
   "cell_type": "code",
   "execution_count": 16,
   "metadata": {},
   "outputs": [
    {
     "data": {
      "image/png": "[encoded data removed]",
      "text/plain": [
       "<Figure size 1500x1300 with 10 Axes>"
      ]
     },
     "metadata": {},
     "output_type": "display_data"
    }
   ],
   "source": [
    "fig, axs = plt.subplots(5, 2, sharey=True, sharex=True, figsize=(15, 13))\n",
    "\n",
    "for i, label in enumerate(labels_categories):\n",
    "    j = i // 2\n",
    "    k = i % 2\n",
    "\n",
    "    sns.barplot(df_corr, x=\"pixel\", y=label, ax=axs[i // 2, i % 2])\n",
    "\n",
    "    axs[j, k].set_ylim([-1, 1])\n",
    "\n",
    "    axs[j, k].set_xticks([0, 350, 710])\n",
    "\n",
    "    axs[j, k].set_xlabel(\"\")\n",
    "\n",
    "    axs[j, k].set_ylabel(\"\")\n",
    "\n",
    "    axs[j, k].set_title(\"label\" + str(i))\n",
    "\n",
    "plt.show()"
   ]
  },
  {
   "cell_type": "code",
   "execution_count": 17,
   "metadata": {},
   "outputs": [],
   "source": [
    "def get_columns_above_limiar_corr(df_corr, limiar) -> np.array:\n",
    "\n",
    "    qtd_low_corr_by_pixel = (\n",
    "        (df_corr.drop(\"pixel\", axis=1) >= -limiar) &\n",
    "        (df_corr.drop(\"pixel\", axis=1) <= limiar)\n",
    "    ).T.sum() == 10\n",
    "\n",
    "    cols_down_limiar = set(qtd_low_corr_by_pixel[qtd_low_corr_by_pixel].index)\n",
    "    cols_above_limiar = set(qtd_low_corr_by_pixel.index) - cols_down_limiar\n",
    "\n",
    "    return (\"pixel\" + qtd_low_corr_by_pixel[list(cols_above_limiar)].index.astype(str)).values"
   ]
  },
  {
   "cell_type": "code",
   "execution_count": 18,
   "metadata": {},
   "outputs": [],
   "source": [
    "columns_above_lcorr_025 = get_columns_above_limiar_corr(df_corr, 0.025)\n",
    "columns_above_lcorr_050 = get_columns_above_limiar_corr(df_corr, 0.050)\n",
    "columns_above_lcorr_075 = get_columns_above_limiar_corr(df_corr, 0.075)\n",
    "columns_above_lcorr_100 = get_columns_above_limiar_corr(df_corr, 0.100)\n",
    "columns_above_lcorr_150 = get_columns_above_limiar_corr(df_corr, 0.15)\n",
    "columns_above_lcorr_200 = get_columns_above_limiar_corr(df_corr, 0.20)\n",
    "columns_above_lcorr_250 = get_columns_above_limiar_corr(df_corr, 0.25)\n",
    "columns_above_lcorr_300 = get_columns_above_limiar_corr(df_corr, 0.30)"
   ]
  },
  {
   "cell_type": "markdown",
   "metadata": {},
   "source": [
    "## 4. Treino e Teste"
   ]
  },
  {
   "cell_type": "markdown",
   "metadata": {},
   "source": [
    "### 4.1. Conjuntos"
   ]
  },
  {
   "cell_type": "code",
   "execution_count": 19,
   "metadata": {},
   "outputs": [],
   "source": [
    "qtd_col_by_filtro = {\n",
    "    \"total\": df.shape[1],\n",
    "    \"cols_mt_zero\": df[columns_mt_zero].shape[1],\n",
    "    \"cols_ab_l0.300\": df[columns_above_lcorr_300].shape[1],\n",
    "    \"cols_ab_l0.250\": df[columns_above_lcorr_250].shape[1],\n",
    "    \"cols_ab_l0.200\": df[columns_above_lcorr_200].shape[1],\n",
    "    \"cols_ab_l0.150\": df[columns_above_lcorr_150].shape[1],\n",
    "    \"cols_ab_l0.100\": df[columns_above_lcorr_100].shape[1],\n",
    "    \"cols_ab_l0.075\": df[columns_above_lcorr_075].shape[1],\n",
    "    \"cols_ab_l0.050\": df[columns_above_lcorr_050].shape[1],\n",
    "    \"cols_ab_l0.025\": df[columns_above_lcorr_025].shape[1],\n",
    "    \"cols_mt_zero and cols_ab_l0.300\": df[list(set(columns_mt_zero) & set(columns_above_lcorr_300))].shape[1],\n",
    "    \"cols_mt_zero and cols_ab_l0.250\": df[list(set(columns_mt_zero) & set(columns_above_lcorr_250))].shape[1],\n",
    "    \"cols_mt_zero and cols_ab_l0.200\": df[list(set(columns_mt_zero) & set(columns_above_lcorr_200))].shape[1],\n",
    "    \"cols_mt_zero and cols_ab_l0.150\": df[list(set(columns_mt_zero) & set(columns_above_lcorr_150))].shape[1],\n",
    "    \"cols_mt_zero and cols_ab_l0.100\": df[list(set(columns_mt_zero) & set(columns_above_lcorr_100))].shape[1],\n",
    "    \"cols_mt_zero and cols_ab_l0.075\": df[list(set(columns_mt_zero) & set(columns_above_lcorr_075))].shape[1],\n",
    "    \"cols_mt_zero and cols_ab_l0.050\": df[list(set(columns_mt_zero) & set(columns_above_lcorr_050))].shape[1],\n",
    "    \"cols_mt_zero and cols_ab_l0.025\": df[list(set(columns_mt_zero) & set(columns_above_lcorr_025))].shape[1],\n",
    "}"
   ]
  },
  {
   "cell_type": "code",
   "execution_count": 20,
   "metadata": {},
   "outputs": [
    {
     "data": {
      "text/plain": [
       "total                              785\n",
       "cols_mt_zero                       708\n",
       "cols_ab_l0.300                     226\n",
       "cols_ab_l0.250                     369\n",
       "cols_ab_l0.200                     469\n",
       "cols_ab_l0.150                     544\n",
       "cols_ab_l0.100                     601\n",
       "cols_ab_l0.075                     633\n",
       "cols_ab_l0.050                     674\n",
       "cols_ab_l0.025                     712\n",
       "cols_mt_zero and cols_ab_l0.300    150\n",
       "cols_mt_zero and cols_ab_l0.250    293\n",
       "cols_mt_zero and cols_ab_l0.200    393\n",
       "cols_mt_zero and cols_ab_l0.150    468\n",
       "cols_mt_zero and cols_ab_l0.100    525\n",
       "cols_mt_zero and cols_ab_l0.075    557\n",
       "cols_mt_zero and cols_ab_l0.050    598\n",
       "cols_mt_zero and cols_ab_l0.025    636\n",
       "dtype: int64"
      ]
     },
     "execution_count": 20,
     "metadata": {},
     "output_type": "execute_result"
    }
   ],
   "source": [
    "pd.Series(qtd_col_by_filtro)"
   ]
  },
  {
   "cell_type": "code",
   "execution_count": 21,
   "metadata": {},
   "outputs": [],
   "source": [
    "df_01 = df[[\"label\"] + columns_mt_zero]\n",
    "df_02 = df[[\"label\"] + list(set(columns_mt_zero) & set(columns_above_lcorr_300))]\n",
    "df_03 = df[[\"label\"] + list(set(columns_mt_zero) & set(columns_above_lcorr_250))]\n",
    "df_04 = df[[\"label\"] + list(set(columns_mt_zero) & set(columns_above_lcorr_200))]\n",
    "df_05 = df[[\"label\"] + list(set(columns_mt_zero) & set(columns_above_lcorr_150))]\n",
    "df_06 = df[[\"label\"] + list(set(columns_mt_zero) & set(columns_above_lcorr_100))]\n",
    "df_07 = df[[\"label\"] + list(set(columns_mt_zero) & set(columns_above_lcorr_075))]\n",
    "df_08 = df[[\"label\"] + list(set(columns_mt_zero) & set(columns_above_lcorr_050))]\n",
    "df_09 = df[[\"label\"] + list(set(columns_mt_zero) & set(columns_above_lcorr_025))]"
   ]
  },
  {
   "cell_type": "markdown",
   "metadata": {},
   "source": [
    "### 4.2. Separação"
   ]
  },
  {
   "cell_type": "code",
   "execution_count": 22,
   "metadata": {},
   "outputs": [],
   "source": [
    "seed = 94"
   ]
  },
  {
   "cell_type": "code",
   "execution_count": 23,
   "metadata": {},
   "outputs": [],
   "source": [
    "X_training_01, y_training_01 = df_01.drop(\"label\", axis=1), df_01[\"label\"]\n",
    "X_training_02, y_training_02 = df_02.drop(\"label\", axis=1), df_02[\"label\"]\n",
    "X_training_03, y_training_03 = df_03.drop(\"label\", axis=1), df_03[\"label\"]\n",
    "X_training_04, y_training_04 = df_04.drop(\"label\", axis=1), df_04[\"label\"]\n",
    "X_training_05, y_training_05 = df_05.drop(\"label\", axis=1), df_05[\"label\"]\n",
    "X_training_06, y_training_06 = df_06.drop(\"label\", axis=1), df_06[\"label\"]\n",
    "X_training_07, y_training_07 = df_07.drop(\"label\", axis=1), df_07[\"label\"]\n",
    "X_training_08, y_training_08 = df_08.drop(\"label\", axis=1), df_08[\"label\"]\n",
    "X_training_09, y_training_09 = df_09.drop(\"label\", axis=1), df_09[\"label\"]"
   ]
  },
  {
   "cell_type": "code",
   "execution_count": 24,
   "metadata": {},
   "outputs": [],
   "source": [
    "X_train_01, X_val_01, y_train_01, y_val_01 = train_test_split(X_training_01, y_training_01, random_state=seed, test_size=0.33, stratify=y_training_01)\n",
    "X_train_02, X_val_02, y_train_02, y_val_02 = train_test_split(X_training_02, y_training_02, random_state=seed, test_size=0.33, stratify=y_training_02)\n",
    "X_train_03, X_val_03, y_train_03, y_val_03 = train_test_split(X_training_03, y_training_03, random_state=seed, test_size=0.33, stratify=y_training_03)\n",
    "X_train_04, X_val_04, y_train_04, y_val_04 = train_test_split(X_training_04, y_training_04, random_state=seed, test_size=0.33, stratify=y_training_04)\n",
    "X_train_05, X_val_05, y_train_05, y_val_05 = train_test_split(X_training_05, y_training_05, random_state=seed, test_size=0.33, stratify=y_training_05)\n",
    "X_train_06, X_val_06, y_train_06, y_val_06 = train_test_split(X_training_06, y_training_06, random_state=seed, test_size=0.33, stratify=y_training_06)\n",
    "X_train_07, X_val_07, y_train_07, y_val_07 = train_test_split(X_training_07, y_training_07, random_state=seed, test_size=0.33, stratify=y_training_07)\n",
    "X_train_08, X_val_08, y_train_08, y_val_08 = train_test_split(X_training_08, y_training_08, random_state=seed, test_size=0.33, stratify=y_training_08)\n",
    "X_train_09, X_val_09, y_train_09, y_val_09 = train_test_split(X_training_09, y_training_09, random_state=seed, test_size=0.33, stratify=y_training_09)"
   ]
  },
  {
   "cell_type": "markdown",
   "metadata": {},
   "source": [
    "## 5. Classificação"
   ]
  },
  {
   "cell_type": "markdown",
   "metadata": {},
   "source": [
    "### 5.1. Árvore de Decisão"
   ]
  },
  {
   "cell_type": "markdown",
   "metadata": {},
   "source": [
    "#### 5.1.1. Teste de Produndidade Máxima"
   ]
  },
  {
   "cell_type": "code",
   "execution_count": 395,
   "metadata": {},
   "outputs": [
    {
     "name": "stdout",
     "output_type": "stream",
     "text": [
      "Acurácia no conjunto de treino: 0.927\n",
      "Acurácia no conjunto de validação: 0.807\n",
      "              precision    recall  f1-score   support\n",
      "\n",
      "           0       0.91      0.92      0.92      1364\n",
      "           1       0.91      0.95      0.93      1546\n",
      "           2       0.82      0.78      0.80      1378\n",
      "           3       0.78      0.75      0.77      1436\n",
      "           4       0.70      0.74      0.72      1344\n",
      "           5       0.76      0.73      0.75      1252\n",
      "           6       0.87      0.84      0.85      1365\n",
      "           7       0.85      0.86      0.86      1452\n",
      "           8       0.75      0.76      0.75      1341\n",
      "           9       0.70      0.71      0.71      1382\n",
      "\n",
      "    accuracy                           0.81     13860\n",
      "   macro avg       0.81      0.80      0.80     13860\n",
      "weighted avg       0.81      0.81      0.81     13860\n",
      "\n"
     ]
    }
   ],
   "source": [
    "tree = DecisionTreeClassifier(\n",
    "    random_state=seed,\n",
    "    max_depth=12\n",
    ")\n",
    "\n",
    "tree.fit(X_train_02, y_train_02)\n",
    "\n",
    "y_pred = tree.predict(X_val_02)\n",
    "\n",
    "print(\"Acurácia no conjunto de treino: {:.3f}\".format(tree.score(X_train_02, y_train_02)))\n",
    "print(\"Acurácia no conjunto de validação: {:.3f}\".format(tree.score(X_val_02, y_val_02)))\n",
    "print(classification_report(y_val_02, y_pred))"
   ]
  },
  {
   "cell_type": "markdown",
   "metadata": {},
   "source": [
    "#### 5.1.2. Escolhendo Hiperparâmetros"
   ]
  },
  {
   "cell_type": "code",
   "execution_count": 30,
   "metadata": {},
   "outputs": [
    {
     "data": {
      "text/plain": [
       "{'criterion': 'entropy', 'max_depth': 15}"
      ]
     },
     "execution_count": 30,
     "metadata": {},
     "output_type": "execute_result"
    }
   ],
   "source": [
    "parameters = {\n",
    "    'max_depth': [10, 13, 15],\n",
    "    'criterion': ['gini', 'entropy', 'log_loss']\n",
    "}\n",
    "\n",
    "tree = DecisionTreeClassifier(random_state=seed)\n",
    "\n",
    "grid = GridSearchCV(tree, parameters)\n",
    "\n",
    "grid.fit(X_train_01, y_train_01)\n",
    "\n",
    "params_tree = grid.best_params_\n",
    "\n",
    "params_tree['random_state'] = seed\n",
    "\n",
    "params_tree"
   ]
  },
  {
   "cell_type": "markdown",
   "metadata": {},
   "source": [
    "#### 5.1.3. Teste de Subconjuntos de Variáveis"
   ]
  },
  {
   "cell_type": "code",
   "execution_count": 86,
   "metadata": {},
   "outputs": [],
   "source": [
    "def get_results_model(x_train, y_train, x_val, y_val, model, params):\n",
    "\n",
    "    tree = model(**params)\n",
    "\n",
    "    tree.fit(x_train.values, y_train.values)\n",
    "\n",
    "    y_pred = tree.predict(x_val.values)\n",
    "\n",
    "    print(\"Acurácia no conjunto de treino: {:.3f}\".format(tree.score(x_train.values, y_train.values)))\n",
    "    print(\"Acurácia no conjunto de validação: {:.3f}\".format(tree.score(x_val.values, y_val.values)))\n",
    "    print(classification_report(y_val.values, y_pred))"
   ]
  },
  {
   "cell_type": "code",
   "execution_count": 55,
   "metadata": {},
   "outputs": [],
   "source": [
    "\"\"\"\n",
    "01 - 0.860\n",
    "02 - 0.826\n",
    "03 - 0.861\n",
    "04 - 0.860\n",
    "05 - 0.860\n",
    "\"\"\"\n",
    "None"
   ]
  },
  {
   "cell_type": "code",
   "execution_count": 87,
   "metadata": {},
   "outputs": [
    {
     "ename": "TypeError",
     "evalue": "__init__() got an unexpected keyword argument 'n_neighbors'",
     "output_type": "error",
     "traceback": [
      "\u001b[1;31m---------------------------------------------------------------------------\u001b[0m",
      "\u001b[1;31mTypeError\u001b[0m                                 Traceback (most recent call last)",
      "\u001b[1;32md:\\Repositórios\\digit-recognizer\\main.ipynb Célula 42\u001b[0m line \u001b[0;36m1\n\u001b[1;32m----> <a href='vscode-notebook-cell:/d%3A/Reposit%C3%B3rios/digit-recognizer/main.ipynb#X56sZmlsZQ%3D%3D?line=0'>1</a>\u001b[0m get_results_model(X_train_01, y_train_01, X_val_01, y_val_01, DecisionTreeClassifier, params)\n",
      "\u001b[1;32md:\\Repositórios\\digit-recognizer\\main.ipynb Célula 42\u001b[0m line \u001b[0;36m3\n\u001b[0;32m      <a href='vscode-notebook-cell:/d%3A/Reposit%C3%B3rios/digit-recognizer/main.ipynb#X56sZmlsZQ%3D%3D?line=0'>1</a>\u001b[0m \u001b[39mdef\u001b[39;00m \u001b[39mget_results_model\u001b[39m(x_train, y_train, x_val, y_val, model, params):\n\u001b[1;32m----> <a href='vscode-notebook-cell:/d%3A/Reposit%C3%B3rios/digit-recognizer/main.ipynb#X56sZmlsZQ%3D%3D?line=2'>3</a>\u001b[0m     tree \u001b[39m=\u001b[39m model(\u001b[39m*\u001b[39m\u001b[39m*\u001b[39mparams)\n\u001b[0;32m      <a href='vscode-notebook-cell:/d%3A/Reposit%C3%B3rios/digit-recognizer/main.ipynb#X56sZmlsZQ%3D%3D?line=4'>5</a>\u001b[0m     tree\u001b[39m.\u001b[39mfit(x_train\u001b[39m.\u001b[39mvalues, y_train\u001b[39m.\u001b[39mvalues)\n\u001b[0;32m      <a href='vscode-notebook-cell:/d%3A/Reposit%C3%B3rios/digit-recognizer/main.ipynb#X56sZmlsZQ%3D%3D?line=6'>7</a>\u001b[0m     y_pred \u001b[39m=\u001b[39m tree\u001b[39m.\u001b[39mpredict(x_val\u001b[39m.\u001b[39mvalues)\n",
      "\u001b[1;31mTypeError\u001b[0m: __init__() got an unexpected keyword argument 'n_neighbors'"
     ]
    }
   ],
   "source": [
    "get_results_model(X_train_01, y_train_01, X_val_01, y_val_01, DecisionTreeClassifier, params_tree)\n",
    "#get_results_model(X_train_02, y_train_02, X_val_02, y_val_02, DecisionTreeClassifier, params_tree)\n",
    "#get_results_model(X_train_03, y_train_03, X_val_03, y_val_03, DecisionTreeClassifier, params_tree)\n",
    "#get_results_model(X_train_04, y_train_04, X_val_04, y_val_04, DecisionTreeClassifier, params_tree)\n",
    "#get_results_model(X_train_05, y_train_05, X_val_05, y_val_05, DecisionTreeClassifier, params_tree)\n",
    "#get_results_model(X_train_05, y_train_05, X_val_05, y_val_06, DecisionTreeClassifier, params_tree)\n",
    "#get_results_model(X_train_05, y_train_05, X_val_05, y_val_07, DecisionTreeClassifier, params_tree)\n",
    "#get_results_model(X_train_05, y_train_05, X_val_05, y_val_08, DecisionTreeClassifier, params_tree)\n",
    "#get_results_model(X_train_05, y_train_05, X_val_05, y_val_09, DecisionTreeClassifier, params_tree)"
   ]
  },
  {
   "cell_type": "markdown",
   "metadata": {},
   "source": [
    "### 5.2. Floresta Aleatória"
   ]
  },
  {
   "cell_type": "markdown",
   "metadata": {},
   "source": [
    "#### 5.2.1. Teste de Subconjuntos de Variáveis"
   ]
  },
  {
   "cell_type": "code",
   "execution_count": 65,
   "metadata": {},
   "outputs": [],
   "source": [
    "\"\"\"\n",
    "01 - 0.961\n",
    "02 - 0.921\n",
    "03 - 0.956\n",
    "04 - 0.960\n",
    "05 - 0.961\n",
    "06 - 0.961\n",
    "07 - 0.961\n",
    "08 - 0.961\n",
    "09 - 0.961\n",
    "\"\"\"\n",
    "None"
   ]
  },
  {
   "cell_type": "code",
   "execution_count": 64,
   "metadata": {},
   "outputs": [
    {
     "name": "stdout",
     "output_type": "stream",
     "text": [
      "Acurácia no conjunto de treino: 1.000\n",
      "Acurácia no conjunto de validação: 0.961\n",
      "              precision    recall  f1-score   support\n",
      "\n",
      "           0       0.98      0.98      0.98      1364\n",
      "           1       0.98      0.98      0.98      1546\n",
      "           2       0.96      0.97      0.96      1378\n",
      "           3       0.95      0.94      0.95      1436\n",
      "           4       0.96      0.96      0.96      1344\n",
      "           5       0.96      0.96      0.96      1252\n",
      "           6       0.96      0.98      0.97      1365\n",
      "           7       0.97      0.95      0.96      1452\n",
      "           8       0.96      0.94      0.95      1341\n",
      "           9       0.93      0.95      0.94      1382\n",
      "\n",
      "    accuracy                           0.96     13860\n",
      "   macro avg       0.96      0.96      0.96     13860\n",
      "weighted avg       0.96      0.96      0.96     13860\n",
      "\n"
     ]
    }
   ],
   "source": [
    "get_results_model(X_train_01, y_train_01, X_val_01, y_val_01, RandomForestClassifier, params_tree)\n",
    "#get_results_model(X_train_02, y_train_02, X_val_02, y_val_02, RandomForestClassifier, params_tree)\n",
    "#get_results_model(X_train_03, y_train_03, X_val_03, y_val_03, RandomForestClassifier, params_tree)\n",
    "#get_results_model(X_train_04, y_train_04, X_val_04, y_val_04, RandomForestClassifier, params_tree)\n",
    "#get_results_model(X_train_05, y_train_05, X_val_05, y_val_05, RandomForestClassifier, params_tree)\n",
    "#get_results_model(X_train_05, y_train_05, X_val_05, y_val_06, RandomForestClassifier, params_tree)\n",
    "#get_results_model(X_train_05, y_train_05, X_val_05, y_val_07, RandomForestClassifier, params_tree)\n",
    "#get_results_model(X_train_05, y_train_05, X_val_05, y_val_08, RandomForestClassifier, params_tree)\n",
    "#get_results_model(X_train_05, y_train_05, X_val_05, y_val_09, RandomForestClassifier, params_tree)"
   ]
  },
  {
   "cell_type": "markdown",
   "metadata": {},
   "source": [
    "### 5.3. KNN"
   ]
  },
  {
   "cell_type": "markdown",
   "metadata": {},
   "source": [
    "#### 5.3.1. Teste com N"
   ]
  },
  {
   "cell_type": "code",
   "execution_count": 77,
   "metadata": {},
   "outputs": [],
   "source": [
    "\"\"\"\n",
    "03 - tre: 954, val: 916\n",
    "04 - tre: 944, val: 912\n",
    "05 - tre: 943, val: 915\n",
    "06 - tre: 938, val: 911\n",
    "\"\"\"\n",
    "None"
   ]
  },
  {
   "cell_type": "code",
   "execution_count": 76,
   "metadata": {},
   "outputs": [
    {
     "name": "stdout",
     "output_type": "stream",
     "text": [
      "Acurácia no conjunto de treino: 0.938\n",
      "Acurácia no conjunto de validação: 0.911\n",
      "              precision    recall  f1-score   support\n",
      "\n",
      "           0       0.94      0.99      0.97      1364\n",
      "           1       0.89      0.99      0.94      1546\n",
      "           2       0.94      0.89      0.92      1378\n",
      "           3       0.87      0.93      0.90      1436\n",
      "           4       0.86      0.85      0.85      1344\n",
      "           5       0.92      0.87      0.89      1252\n",
      "           6       0.97      0.94      0.95      1365\n",
      "           7       0.92      0.92      0.92      1452\n",
      "           8       0.95      0.86      0.90      1341\n",
      "           9       0.86      0.85      0.86      1382\n",
      "\n",
      "    accuracy                           0.91     13860\n",
      "   macro avg       0.91      0.91      0.91     13860\n",
      "weighted avg       0.91      0.91      0.91     13860\n",
      "\n"
     ]
    }
   ],
   "source": [
    "knn = KNeighborsClassifier(\n",
    "    n_neighbors=6\n",
    ")\n",
    "\n",
    "knn.fit(X_train_02.values, y_train_02.values)\n",
    "\n",
    "y_pred = knn.predict(X_val_02.values)\n",
    "\n",
    "print(\"Acurácia no conjunto de treino: {:.3f}\".format(knn.score(X_train_02.values, y_train_02.values)))\n",
    "print(\"Acurácia no conjunto de validação: {:.3f}\".format(knn.score(X_val_02.values, y_val_02.values)))\n",
    "print(classification_report(y_val_02.values, y_pred))"
   ]
  },
  {
   "cell_type": "markdown",
   "metadata": {},
   "source": [
    "#### 5.3.2. Escolhendo Hiperparâmetros"
   ]
  },
  {
   "cell_type": "code",
   "execution_count": 83,
   "metadata": {},
   "outputs": [
    {
     "data": {
      "text/plain": [
       "{'n_neighbors': 4, 'weights': 'distance'}"
      ]
     },
     "execution_count": 83,
     "metadata": {},
     "output_type": "execute_result"
    }
   ],
   "source": [
    "parameters = {\n",
    "    'n_neighbors': [3, 4, 5],\n",
    "    'weights': ['uniform', 'distance']\n",
    "}\n",
    "\n",
    "knn = KNeighborsClassifier()\n",
    "\n",
    "grid = GridSearchCV(knn, parameters)\n",
    "\n",
    "grid.fit(X_train_01.values, y_train_01.values)\n",
    "\n",
    "params_knn = grid.best_params_\n",
    "\n",
    "params_knn"
   ]
  },
  {
   "cell_type": "markdown",
   "metadata": {},
   "source": [
    "#### 5.3.3. Teste de Subconjuntos de Variáveis"
   ]
  },
  {
   "cell_type": "code",
   "execution_count": 100,
   "metadata": {},
   "outputs": [],
   "source": [
    "\"\"\"\n",
    "01 - tre: 1000, val: 966\n",
    "02 - tre: 1000, val: 920\n",
    "03 - tre: 1000, val: 964\n",
    "04 - tre: 1000, val: 966\n",
    "05 - tre: 1000, val: 967\n",
    "06 - tre: 1000, val: 967\n",
    "07 - tre: 1000, val: 967\n",
    "08 - tre: 1000, val: 967\n",
    "09 - tre: 1000, val: 967\n",
    "\"\"\"\n",
    "None"
   ]
  },
  {
   "cell_type": "code",
   "execution_count": 99,
   "metadata": {},
   "outputs": [
    {
     "name": "stdout",
     "output_type": "stream",
     "text": [
      "Acurácia no conjunto de treino: 1.000\n",
      "Acurácia no conjunto de validação: 0.967\n",
      "              precision    recall  f1-score   support\n",
      "\n",
      "           0       0.98      0.99      0.99      1364\n",
      "           1       0.96      0.99      0.97      1546\n",
      "           2       0.98      0.96      0.97      1378\n",
      "           3       0.96      0.96      0.96      1436\n",
      "           4       0.98      0.96      0.97      1344\n",
      "           5       0.95      0.96      0.95      1252\n",
      "           6       0.98      0.98      0.98      1365\n",
      "           7       0.96      0.97      0.97      1452\n",
      "           8       0.99      0.92      0.95      1341\n",
      "           9       0.94      0.96      0.95      1382\n",
      "\n",
      "    accuracy                           0.97     13860\n",
      "   macro avg       0.97      0.97      0.97     13860\n",
      "weighted avg       0.97      0.97      0.97     13860\n",
      "\n"
     ]
    }
   ],
   "source": [
    "get_results_model(X_train_01, y_train_01, X_val_01, y_val_01, KNeighborsClassifier, params_knn)\n",
    "#get_results_model(X_train_02, y_train_02, X_val_02, y_val_02, KNeighborsClassifier, params_knn)\n",
    "#get_results_model(X_train_03, y_train_03, X_val_03, y_val_03, KNeighborsClassifier, params_knn)\n",
    "#get_results_model(X_train_04, y_train_04, X_val_04, y_val_04, KNeighborsClassifier, params_knn)\n",
    "#get_results_model(X_train_05, y_train_05, X_val_05, y_val_05, KNeighborsClassifier, params_knn)\n",
    "#get_results_model(X_train_05, y_train_05, X_val_05, y_val_06, KNeighborsClassifier, params_knn)\n",
    "#get_results_model(X_train_05, y_train_05, X_val_05, y_val_07, KNeighborsClassifier, params_knn)\n",
    "#get_results_model(X_train_05, y_train_05, X_val_05, y_val_08, KNeighborsClassifier, params_knn)\n",
    "#get_results_model(X_train_05, y_train_05, X_val_05, y_val_09, KNeighborsClassifier, params_knn)"
   ]
  },
  {
   "cell_type": "markdown",
   "metadata": {},
   "source": [
    "### 5.4. AdaBoost"
   ]
  },
  {
   "cell_type": "code",
   "execution_count": 122,
   "metadata": {},
   "outputs": [],
   "source": [
    "def get_results_ada(x_train, y_train, x_val, y_val, model, params):\n",
    "\n",
    "    ada = AdaBoostClassifier(\n",
    "        random_state=seed, \n",
    "        estimator=model(**params)\n",
    "    )\n",
    "\n",
    "    ada.fit(x_train, y_train)\n",
    "\n",
    "    y_pred = ada.predict(x_val)\n",
    "\n",
    "    print(\"Acurácia no conjunto de treino: {:.3f}\".format(ada.score(x_train, y_train)))\n",
    "    print(\"Acurácia no conjunto de validação: {:.3f}\".format(ada.score(x_val, y_val)))\n",
    "    print(classification_report(y_val, y_pred))"
   ]
  },
  {
   "cell_type": "markdown",
   "metadata": {},
   "source": [
    "#### 5.4.1. Teste com Árvore de Decisão"
   ]
  },
  {
   "cell_type": "code",
   "execution_count": 113,
   "metadata": {},
   "outputs": [],
   "source": [
    "\"\"\"\n",
    "01 - tre: 1000, val: 923\n",
    "02 - \n",
    "\n",
    "\"\"\"\n",
    "None"
   ]
  },
  {
   "cell_type": "code",
   "execution_count": 112,
   "metadata": {},
   "outputs": [
    {
     "name": "stdout",
     "output_type": "stream",
     "text": [
      "Acurácia no conjunto de treino: 1.000\n",
      "Acurácia no conjunto de validação: 0.923\n",
      "              precision    recall  f1-score   support\n",
      "\n",
      "           0       0.97      0.98      0.97      1364\n",
      "           1       0.97      0.98      0.97      1546\n",
      "           2       0.92      0.93      0.92      1378\n",
      "           3       0.90      0.91      0.91      1436\n",
      "           4       0.88      0.87      0.88      1344\n",
      "           5       0.90      0.91      0.91      1252\n",
      "           6       0.96      0.95      0.95      1365\n",
      "           7       0.94      0.92      0.93      1452\n",
      "           8       0.92      0.91      0.91      1341\n",
      "           9       0.87      0.86      0.87      1382\n",
      "\n",
      "    accuracy                           0.92     13860\n",
      "   macro avg       0.92      0.92      0.92     13860\n",
      "weighted avg       0.92      0.92      0.92     13860\n",
      "\n"
     ]
    }
   ],
   "source": [
    "get_results_ada(X_train_01, y_train_01, X_val_01, y_val_01, DecisionTreeClassifier, params_tree)\n",
    "#get_results_ada(X_train_02, y_train_02, X_val_02, y_val_02, DecisionTreeClassifier, params_tree)\n",
    "#get_results_ada(X_train_03, y_train_03, X_val_03, y_val_03, DecisionTreeClassifier, params_tree)"
   ]
  },
  {
   "cell_type": "markdown",
   "metadata": {},
   "source": [
    "#### 5.4.2. Teste com Floresta Aleatória"
   ]
  },
  {
   "cell_type": "code",
   "execution_count": 109,
   "metadata": {},
   "outputs": [],
   "source": [
    "\"\"\"\n",
    "01 - tre: 999, val: 915\n",
    "02 - tre: 999, val: 915\n",
    "\"\"\"\n",
    "None"
   ]
  },
  {
   "cell_type": "code",
   "execution_count": 106,
   "metadata": {},
   "outputs": [
    {
     "name": "stdout",
     "output_type": "stream",
     "text": [
      "Acurácia no conjunto de treino: 0.999\n",
      "Acurácia no conjunto de validação: 0.915\n",
      "              precision    recall  f1-score   support\n",
      "\n",
      "           0       0.96      0.98      0.97      1364\n",
      "           1       0.95      0.97      0.96      1546\n",
      "           2       0.94      0.91      0.92      1378\n",
      "           3       0.89      0.91      0.90      1436\n",
      "           4       0.87      0.85      0.86      1344\n",
      "           5       0.89      0.90      0.90      1252\n",
      "           6       0.95      0.95      0.95      1365\n",
      "           7       0.93      0.91      0.92      1452\n",
      "           8       0.90      0.91      0.90      1341\n",
      "           9       0.86      0.86      0.86      1382\n",
      "\n",
      "    accuracy                           0.91     13860\n",
      "   macro avg       0.91      0.91      0.91     13860\n",
      "weighted avg       0.91      0.91      0.91     13860\n",
      "\n"
     ]
    }
   ],
   "source": [
    "get_results_ada(X_train_01, y_train_01, X_val_01, y_val_01, RandomForestClassifier, params_tree)\n",
    "#get_results_ada(X_train_02, y_train_02, X_val_02, y_val_02, RandomForestClassifier, params_tree)"
   ]
  },
  {
   "cell_type": "markdown",
   "metadata": {},
   "source": [
    "### 5.5. HistGradientBoost"
   ]
  },
  {
   "cell_type": "code",
   "execution_count": 124,
   "metadata": {},
   "outputs": [],
   "source": [
    "def get_results_gradient(x_train, y_train, x_val, y_val):\n",
    "\n",
    "    grd = HistGradientBoostingClassifier(random_state=seed)\n",
    "\n",
    "    grd.fit(x_train, y_train)\n",
    "\n",
    "    y_pred = grd.predict(x_val)\n",
    "\n",
    "    print(\"Acurácia no conjunto de treino: {:.3f}\".format(grd.score(x_train, y_train)))\n",
    "    print(\"Acurácia no conjunto de validação: {:.3f}\".format(grd.score(x_val, y_val)))\n",
    "    print(classification_report(y_val, y_pred))"
   ]
  },
  {
   "cell_type": "code",
   "execution_count": 121,
   "metadata": {},
   "outputs": [],
   "source": [
    "\"\"\"\n",
    "01 - tre: 997, val: 970\n",
    "02 - \n",
    "\"\"\"\n",
    "None"
   ]
  },
  {
   "cell_type": "code",
   "execution_count": 125,
   "metadata": {},
   "outputs": [
    {
     "name": "stdout",
     "output_type": "stream",
     "text": [
      "Acurácia no conjunto de treino: 0.997\n",
      "Acurácia no conjunto de validação: 0.970\n",
      "              precision    recall  f1-score   support\n",
      "\n",
      "           0       0.99      0.98      0.98      1364\n",
      "           1       0.98      0.98      0.98      1546\n",
      "           2       0.96      0.97      0.97      1378\n",
      "           3       0.97      0.96      0.96      1436\n",
      "           4       0.97      0.97      0.97      1344\n",
      "           5       0.96      0.97      0.96      1252\n",
      "           6       0.98      0.97      0.98      1365\n",
      "           7       0.98      0.97      0.97      1452\n",
      "           8       0.96      0.96      0.96      1341\n",
      "           9       0.94      0.96      0.95      1382\n",
      "\n",
      "    accuracy                           0.97     13860\n",
      "   macro avg       0.97      0.97      0.97     13860\n",
      "weighted avg       0.97      0.97      0.97     13860\n",
      "\n"
     ]
    }
   ],
   "source": [
    "get_results_gradient(X_train_01, y_train_01, X_val_01, y_val_01)\n",
    "#get_results_gradient(X_train_02, y_train_02, X_val_02, y_val_02)"
   ]
  },
  {
   "cell_type": "markdown",
   "metadata": {},
   "source": [
    "### 5.6. XGBoost"
   ]
  },
  {
   "cell_type": "code",
   "execution_count": 127,
   "metadata": {},
   "outputs": [],
   "source": [
    "def get_results_xgb(x_train, y_train, x_val, y_val):\n",
    "\n",
    "    xgb = XGBClassifier(random_state=seed)\n",
    "\n",
    "    xgb.fit(x_train, y_train)\n",
    "\n",
    "    y_pred = xgb.predict(x_val)\n",
    "\n",
    "    print(\"Acurácia no conjunto de treino: {:.3f}\".format(xgb.score(x_train, y_train)))\n",
    "    print(\"Acurácia no conjunto de validação: {:.3f}\".format(xgb.score(x_val, y_val)))\n",
    "    print(classification_report(y_val, y_pred))"
   ]
  },
  {
   "cell_type": "code",
   "execution_count": 130,
   "metadata": {},
   "outputs": [],
   "source": [
    "\"\"\"\n",
    "01 - tre: 1000, val: 970\n",
    "\"\"\"\n",
    "None"
   ]
  },
  {
   "cell_type": "code",
   "execution_count": 128,
   "metadata": {},
   "outputs": [
    {
     "name": "stdout",
     "output_type": "stream",
     "text": [
      "Acurácia no conjunto de treino: 1.000\n",
      "Acurácia no conjunto de validação: 0.970\n",
      "              precision    recall  f1-score   support\n",
      "\n",
      "           0       0.98      0.98      0.98      1364\n",
      "           1       0.98      0.98      0.98      1546\n",
      "           2       0.96      0.97      0.97      1378\n",
      "           3       0.97      0.95      0.96      1436\n",
      "           4       0.97      0.97      0.97      1344\n",
      "           5       0.96      0.97      0.97      1252\n",
      "           6       0.98      0.97      0.98      1365\n",
      "           7       0.97      0.97      0.97      1452\n",
      "           8       0.97      0.96      0.96      1341\n",
      "           9       0.95      0.96      0.96      1382\n",
      "\n",
      "    accuracy                           0.97     13860\n",
      "   macro avg       0.97      0.97      0.97     13860\n",
      "weighted avg       0.97      0.97      0.97     13860\n",
      "\n"
     ]
    }
   ],
   "source": [
    "get_results_xgb(X_train_01, y_train_01, X_val_01, y_val_01)\n",
    "#get_results_xgb(X_train_02, y_train_02, X_val_02, y_val_02)"
   ]
  }
 ],
 "metadata": {
  "kernelspec": {
   "display_name": "digit-recognizer",
   "language": "python",
   "name": "python3"
  },
  "language_info": {
   "codemirror_mode": {
    "name": "ipython",
    "version": 3
   },
   "file_extension": ".py",
   "mimetype": "text/x-python",
   "name": "python",
   "nbconvert_exporter": "python",
   "pygments_lexer": "ipython3",
   "version": "3.9.13"
  },
  "orig_nbformat": 4
 },
 "nbformat": 4,
 "nbformat_minor": 2
}
